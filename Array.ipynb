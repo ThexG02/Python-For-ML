{
  "nbformat": 4,
  "nbformat_minor": 0,
  "metadata": {
    "colab": {
      "provenance": [],
      "authorship_tag": "ABX9TyM1KMGGCKplfagA2d2b55PE",
      "include_colab_link": true
    },
    "kernelspec": {
      "name": "python3",
      "display_name": "Python 3"
    },
    "language_info": {
      "name": "python"
    }
  },
  "cells": [
    {
      "cell_type": "markdown",
      "metadata": {
        "id": "view-in-github",
        "colab_type": "text"
      },
      "source": [
        "<a href=\"https://colab.research.google.com/github/ThexG02/Python-For-ML/blob/main/Array.ipynb\" target=\"_parent\"><img src=\"https://colab.research.google.com/assets/colab-badge.svg\" alt=\"Open In Colab\"/></a>"
      ]
    },
    {
      "cell_type": "code",
      "execution_count": 2,
      "metadata": {
        "id": "PiesIVj8VhIJ"
      },
      "outputs": [],
      "source": [
        "import numpy as np\n"
      ]
    },
    {
      "cell_type": "markdown",
      "source": [
        "Basics of the Arrays in Numpy"
      ],
      "metadata": {
        "id": "S7OYun1tYg62"
      }
    },
    {
      "cell_type": "code",
      "source": [
        "arr= np.array([1,2,3,4,\"hello\"])\n",
        "arr"
      ],
      "metadata": {
        "colab": {
          "base_uri": "https://localhost:8080/"
        },
        "id": "2NkkZ8TGVVBS",
        "outputId": "719b17c1-a574-4f0a-88de-4ae996f686ff"
      },
      "execution_count": 6,
      "outputs": [
        {
          "output_type": "execute_result",
          "data": {
            "text/plain": [
              "array(['1', '2', '3', '4', 'hello'], dtype='<U21')"
            ]
          },
          "metadata": {},
          "execution_count": 6
        }
      ]
    },
    {
      "cell_type": "code",
      "source": [
        "list_L =[1,2,3,4,\"hello\"]\n",
        "list_L"
      ],
      "metadata": {
        "colab": {
          "base_uri": "https://localhost:8080/"
        },
        "id": "wkHbFmS4VcES",
        "outputId": "6d721168-f462-42b1-9e56-873a3c102532"
      },
      "execution_count": 5,
      "outputs": [
        {
          "output_type": "execute_result",
          "data": {
            "text/plain": [
              "[1, 2, 3, 4, 'hello']"
            ]
          },
          "metadata": {},
          "execution_count": 5
        }
      ]
    },
    {
      "cell_type": "code",
      "source": [
        "l=[[1,2],[3,4],[5,6]]\n",
        "larray=np.array(l)\n",
        "larray"
      ],
      "metadata": {
        "colab": {
          "base_uri": "https://localhost:8080/"
        },
        "id": "EhzMuoCBV6ZY",
        "outputId": "0e3dd889-00c5-452b-e7c5-2e11a0c1b941"
      },
      "execution_count": 9,
      "outputs": [
        {
          "output_type": "execute_result",
          "data": {
            "text/plain": [
              "array([[1, 2],\n",
              "       [3, 4],\n",
              "       [5, 6]])"
            ]
          },
          "metadata": {},
          "execution_count": 9
        }
      ]
    },
    {
      "cell_type": "markdown",
      "source": [
        "Array Generation\n"
      ],
      "metadata": {
        "id": "hCESZxk5Yb6f"
      }
    },
    {
      "cell_type": "markdown",
      "source": [
        "range funtion in numpy : arange(start,end)"
      ],
      "metadata": {
        "id": "iSu15QhyYsN_"
      }
    },
    {
      "cell_type": "code",
      "source": [
        "la = np.arange(1,10)\n",
        "la"
      ],
      "metadata": {
        "colab": {
          "base_uri": "https://localhost:8080/"
        },
        "id": "F7eJ6ZRCYmUW",
        "outputId": "e07d7470-1605-4894-de49-fc22359d27f6"
      },
      "execution_count": 10,
      "outputs": [
        {
          "output_type": "execute_result",
          "data": {
            "text/plain": [
              "array([1, 2, 3, 4, 5, 6, 7, 8, 9])"
            ]
          },
          "metadata": {},
          "execution_count": 10
        }
      ]
    },
    {
      "cell_type": "markdown",
      "source": [
        "Zeroes for matrix generation\n"
      ],
      "metadata": {
        "id": "99Ht9Z7eZYev"
      }
    },
    {
      "cell_type": "code",
      "source": [
        "lm = np.zeros((4,8))\n",
        "lm"
      ],
      "metadata": {
        "colab": {
          "base_uri": "https://localhost:8080/"
        },
        "id": "L7EEyThQZeNf",
        "outputId": "ab08d0cf-c682-4ddd-f6ee-5018272bb3ce"
      },
      "execution_count": 12,
      "outputs": [
        {
          "output_type": "execute_result",
          "data": {
            "text/plain": [
              "array([[0., 0., 0., 0., 0., 0., 0., 0.],\n",
              "       [0., 0., 0., 0., 0., 0., 0., 0.],\n",
              "       [0., 0., 0., 0., 0., 0., 0., 0.],\n",
              "       [0., 0., 0., 0., 0., 0., 0., 0.]])"
            ]
          },
          "metadata": {},
          "execution_count": 12
        }
      ]
    },
    {
      "cell_type": "code",
      "source": [
        "lm = np.ones((3,4))\n",
        "lm"
      ],
      "metadata": {
        "colab": {
          "base_uri": "https://localhost:8080/"
        },
        "id": "31_xAzIddXwj",
        "outputId": "1c378460-6cac-48bc-a3ce-fbfb505ec8e2"
      },
      "execution_count": 13,
      "outputs": [
        {
          "output_type": "execute_result",
          "data": {
            "text/plain": [
              "array([[1., 1., 1., 1.],\n",
              "       [1., 1., 1., 1.],\n",
              "       [1., 1., 1., 1.]])"
            ]
          },
          "metadata": {},
          "execution_count": 13
        }
      ]
    },
    {
      "cell_type": "markdown",
      "source": [
        "Linear space : linspace funtion - return evenly spaced numbers over a spercified Interval"
      ],
      "metadata": {
        "id": "-eaFG3y3dWES"
      }
    },
    {
      "cell_type": "code",
      "source": [
        "lla= np.linspace(0,5,10)\n",
        "lla"
      ],
      "metadata": {
        "colab": {
          "base_uri": "https://localhost:8080/"
        },
        "id": "arnoWuv7duwG",
        "outputId": "8bf924dc-ed22-4d93-fc3a-ecb2717fb0b1"
      },
      "execution_count": 15,
      "outputs": [
        {
          "output_type": "execute_result",
          "data": {
            "text/plain": [
              "array([0.        , 0.55555556, 1.11111111, 1.66666667, 2.22222222,\n",
              "       2.77777778, 3.33333333, 3.88888889, 4.44444444, 5.        ])"
            ]
          },
          "metadata": {},
          "execution_count": 15
        }
      ]
    },
    {
      "cell_type": "markdown",
      "source": [
        "Random genertaion function"
      ],
      "metadata": {
        "id": "0VJ3NRPw1EXd"
      }
    },
    {
      "cell_type": "code",
      "source": [
        "la = np.random.rand(5)\n",
        "la"
      ],
      "metadata": {
        "colab": {
          "base_uri": "https://localhost:8080/"
        },
        "id": "CvSkJu7-d0-n",
        "outputId": "30d046c3-83cf-4ae8-91b0-264fb2d8554a"
      },
      "execution_count": 3,
      "outputs": [
        {
          "output_type": "execute_result",
          "data": {
            "text/plain": [
              "array([0.94434847, 0.05813134, 0.21817182, 0.15919775, 0.90936227])"
            ]
          },
          "metadata": {},
          "execution_count": 3
        }
      ]
    },
    {
      "cell_type": "code",
      "source": [
        "la= np.random.randn(10)\n",
        "la"
      ],
      "metadata": {
        "colab": {
          "base_uri": "https://localhost:8080/"
        },
        "id": "aomeTnBB1TsV",
        "outputId": "e2b8cf8e-880a-46bd-e58b-635a41bb14e9"
      },
      "execution_count": 4,
      "outputs": [
        {
          "output_type": "execute_result",
          "data": {
            "text/plain": [
              "array([ 1.31278798, -1.1514061 , -0.06324725,  0.2574462 ,  0.95840444,\n",
              "       -0.67843413, -0.0424464 , -0.04236611,  1.18958463,  0.16481306])"
            ]
          },
          "metadata": {},
          "execution_count": 4
        }
      ]
    },
    {
      "cell_type": "code",
      "source": [
        "la=np.random.randint(1,100,10)\n",
        "la"
      ],
      "metadata": {
        "colab": {
          "base_uri": "https://localhost:8080/"
        },
        "id": "GVmtJ4JJ1cVN",
        "outputId": "6d98b0f0-611c-4c64-fcf9-e090ecaa8660"
      },
      "execution_count": 5,
      "outputs": [
        {
          "output_type": "execute_result",
          "data": {
            "text/plain": [
              "array([35, 73, 25,  5, 37, 36, 57, 54, 67, 56])"
            ]
          },
          "metadata": {},
          "execution_count": 5
        }
      ]
    }
  ]
}